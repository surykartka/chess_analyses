{
 "cells": [
  {
   "cell_type": "code",
   "execution_count": 68,
   "metadata": {},
   "outputs": [],
   "source": [
    "import chess\n",
    "import chess.pgn\n",
    "import chess.syzygy\n",
    "\n",
    "import matplotlib, seaborn\n",
    "from matplotlib import pyplot as plt\n",
    "\n",
    "from scipy import stats"
   ]
  },
  {
   "cell_type": "code",
   "execution_count": 69,
   "metadata": {},
   "outputs": [],
   "source": [
    "def count_pieces(board, color=chess.WHITE, piece=chess.KNIGHT):\n",
    "    # return number of given pieces\n",
    "    return len(board.pieces(piece_type=piece, color=color))"
   ]
  },
  {
   "cell_type": "code",
   "execution_count": 70,
   "metadata": {},
   "outputs": [],
   "source": [
    "def wg_w(board):\n",
    "    ## return color of the player with rook and bishop\n",
    "    if not (count_pieces(board, chess.WHITE, chess.PAWN) == 0 \\\n",
    "            and count_pieces(board, chess.WHITE, chess.KNIGHT) == 0 \\\n",
    "            and count_pieces(board, chess.WHITE, chess.QUEEN) == 0 \\\n",
    "            and count_pieces(board, chess.BLACK, chess.PAWN) == 0 \\\n",
    "            and count_pieces(board, chess.BLACK, chess.KNIGHT) == 0 \\\n",
    "            and count_pieces(board, chess.BLACK, chess.QUEEN) == 0):\n",
    "        return False\n",
    "    if count_pieces(board, chess.WHITE, chess.ROOK) == 1 \\\n",
    "            and count_pieces(board, chess.WHITE, chess.BISHOP) == 1 \\\n",
    "            and count_pieces(board, chess.BLACK, chess.ROOK) == 1 \\\n",
    "            and count_pieces(board, chess.BLACK, chess.BISHOP) == 0:\n",
    "        return 'white'\n",
    "    if count_pieces(board, chess.BLACK, chess.ROOK) == 1 \\\n",
    "            and count_pieces(board, chess.BLACK, chess.BISHOP) == 1 \\\n",
    "            and count_pieces(board, chess.WHITE, chess.ROOK) == 1 \\\n",
    "            and count_pieces(board, chess.WHITE, chess.BISHOP) == 0:\n",
    "        return 'black'\n",
    "    return False"
   ]
  },
  {
   "cell_type": "code",
   "execution_count": 72,
   "metadata": {},
   "outputs": [],
   "source": [
    "def whos_winning(tb_result, board):\n",
    "    x = tb_result * int(board.turn)\n",
    "    if x < 0:\n",
    "        return 'black'\n",
    "    elif x > 0:\n",
    "        return 'white'\n",
    "    else:\n",
    "        return 'draw'    "
   ]
  },
  {
   "cell_type": "code",
   "execution_count": 73,
   "metadata": {},
   "outputs": [],
   "source": [
    "pgn_file = 'data/wg-w.pgn'\n",
    "results = {}\n",
    "total = 0\n",
    "\n",
    "addit_moves = {}\n",
    "with chess.syzygy.open_tablebase(\"data/syzygy\") as tablebase:\n",
    "    with open(pgn_file) as pgn:\n",
    "        while 1:\n",
    "            game = chess.pgn.read_game(pgn)\n",
    "            if not game:\n",
    "                break\n",
    "            total += 1\n",
    "            result = game.headers['Result']\n",
    "            board = game.board()\n",
    "            more_moves = 0\n",
    "            for move in game.mainline_moves():\n",
    "                board.push(move)\n",
    "                color_wg = wg_w(board)\n",
    "                if color_wg:\n",
    "                    if more_moves == 0:\n",
    "                        tb_result = tablebase.probe_wdl(board)\n",
    "                        tb_color = whos_winning(tb_result, board)\n",
    "                        results[result] = results.get(result, []) + [(color_wg, tb_result, board.turn, tb_color)]\n",
    "                        more_moves += 1\n",
    "                if more_moves > 0:\n",
    "                    more_moves += 1\n",
    "            addit_moves[(result, color_wg)] = addit_moves.get((result, color_wg), []) + [more_moves]\n",
    "            #if more_moves > 150:\n",
    "            #    print(more_moves, game.headers)"
   ]
  },
  {
   "cell_type": "code",
   "execution_count": 66,
   "metadata": {},
   "outputs": [
    {
     "data": {
      "text/plain": [
       "[('black', 0, False, 'draw'),\n",
       " ('black', 0, False, 'draw'),\n",
       " ('black', 0, True, 'draw'),\n",
       " ('black', 0, True, 'draw'),\n",
       " ('black', 0, True, 'draw'),\n",
       " ('black', -2, True, 'black'),\n",
       " ('black', 2, False, 'draw'),\n",
       " ('black', 2, False, 'draw'),\n",
       " ('black', 0, True, 'draw'),\n",
       " ('black', 0, False, 'draw'),\n",
       " ('black', 0, True, 'draw'),\n",
       " ('white', 0, False, 'draw'),\n",
       " ('black', 0, True, 'draw'),\n",
       " ('black', 0, True, 'draw'),\n",
       " ('black', 0, True, 'draw'),\n",
       " ('black', 0, True, 'draw'),\n",
       " ('black', 0, True, 'draw'),\n",
       " ('black', 0, True, 'draw'),\n",
       " ('black', 0, True, 'draw'),\n",
       " ('black', 0, True, 'draw'),\n",
       " ('black', 0, True, 'draw'),\n",
       " ('black', 0, True, 'draw'),\n",
       " ('black', 0, True, 'draw'),\n",
       " ('black', 0, False, 'draw'),\n",
       " ('black', -2, True, 'black'),\n",
       " ('black', 0, True, 'draw'),\n",
       " ('black', 0, True, 'draw'),\n",
       " ('black', 0, True, 'draw'),\n",
       " ('black', 2, False, 'draw'),\n",
       " ('black', 0, True, 'draw'),\n",
       " ('black', 0, True, 'draw'),\n",
       " ('black', 0, True, 'draw'),\n",
       " ('black', 0, True, 'draw'),\n",
       " ('white', 0, False, 'draw'),\n",
       " ('black', 0, True, 'draw'),\n",
       " ('black', 0, True, 'draw'),\n",
       " ('black', 0, True, 'draw'),\n",
       " ('black', -2, True, 'black'),\n",
       " ('black', 0, True, 'draw'),\n",
       " ('black', 0, True, 'draw'),\n",
       " ('white', 0, False, 'draw'),\n",
       " ('black', 0, True, 'draw'),\n",
       " ('black', -2, True, 'black'),\n",
       " ('black', 0, True, 'draw'),\n",
       " ('black', 0, False, 'draw'),\n",
       " ('black', 0, True, 'draw'),\n",
       " ('black', -2, True, 'black'),\n",
       " ('black', 0, True, 'draw'),\n",
       " ('white', 0, True, 'draw'),\n",
       " ('black', 0, True, 'draw'),\n",
       " ('black', 0, True, 'draw'),\n",
       " ('black', 0, True, 'draw'),\n",
       " ('black', 0, True, 'draw'),\n",
       " ('black', 0, True, 'draw'),\n",
       " ('black', 0, True, 'draw'),\n",
       " ('black', 0, True, 'draw'),\n",
       " ('black', 0, True, 'draw'),\n",
       " ('black', 0, True, 'draw'),\n",
       " ('black', 0, True, 'draw'),\n",
       " ('black', 0, False, 'draw'),\n",
       " ('black', 0, True, 'draw'),\n",
       " ('black', 2, False, 'draw'),\n",
       " ('black', 0, True, 'draw'),\n",
       " ('black', 0, True, 'draw'),\n",
       " ('black', 0, True, 'draw'),\n",
       " ('black', 0, True, 'draw'),\n",
       " ('black', 0, True, 'draw'),\n",
       " ('black', 0, True, 'draw'),\n",
       " ('black', 0, False, 'draw'),\n",
       " ('black', -2, True, 'black'),\n",
       " ('black', 0, True, 'draw'),\n",
       " ('black', 0, True, 'draw'),\n",
       " ('black', 0, True, 'draw'),\n",
       " ('black', 0, True, 'draw'),\n",
       " ('black', 0, True, 'draw'),\n",
       " ('black', 0, True, 'draw'),\n",
       " ('black', 0, True, 'draw'),\n",
       " ('black', 0, True, 'draw'),\n",
       " ('black', 2, False, 'draw'),\n",
       " ('black', 0, False, 'draw'),\n",
       " ('black', 0, True, 'draw'),\n",
       " ('black', 0, True, 'draw'),\n",
       " ('white', 0, False, 'draw'),\n",
       " ('black', 0, True, 'draw'),\n",
       " ('black', 0, True, 'draw'),\n",
       " ('black', 0, True, 'draw'),\n",
       " ('black', 0, True, 'draw'),\n",
       " ('black', 0, True, 'draw'),\n",
       " ('black', 0, True, 'draw'),\n",
       " ('black', 0, True, 'draw'),\n",
       " ('black', 0, True, 'draw'),\n",
       " ('black', 0, True, 'draw'),\n",
       " ('black', 0, True, 'draw'),\n",
       " ('black', 0, True, 'draw'),\n",
       " ('black', -2, True, 'black'),\n",
       " ('black', 0, True, 'draw'),\n",
       " ('black', 0, True, 'draw'),\n",
       " ('black', 0, True, 'draw'),\n",
       " ('black', 0, True, 'draw'),\n",
       " ('black', 0, True, 'draw'),\n",
       " ('black', 0, True, 'draw'),\n",
       " ('black', 0, False, 'draw'),\n",
       " ('black', 0, True, 'draw'),\n",
       " ('black', -2, True, 'black'),\n",
       " ('black', 0, True, 'draw'),\n",
       " ('black', 0, True, 'draw'),\n",
       " ('black', 0, False, 'draw'),\n",
       " ('black', 2, False, 'draw'),\n",
       " ('black', 2, False, 'draw'),\n",
       " ('black', 0, True, 'draw'),\n",
       " ('black', 0, True, 'draw'),\n",
       " ('black', 0, False, 'draw'),\n",
       " ('black', 0, True, 'draw'),\n",
       " ('black', 0, True, 'draw'),\n",
       " ('black', 0, True, 'draw'),\n",
       " ('black', 0, False, 'draw'),\n",
       " ('black', 0, True, 'draw'),\n",
       " ('black', 0, True, 'draw'),\n",
       " ('black', 0, True, 'draw'),\n",
       " ('black', 0, True, 'draw'),\n",
       " ('black', 0, True, 'draw'),\n",
       " ('black', 0, True, 'draw'),\n",
       " ('white', 0, False, 'draw'),\n",
       " ('black', 0, True, 'draw'),\n",
       " ('black', 0, True, 'draw'),\n",
       " ('black', 0, False, 'draw'),\n",
       " ('black', 0, True, 'draw'),\n",
       " ('black', 0, True, 'draw'),\n",
       " ('black', 0, True, 'draw'),\n",
       " ('black', 0, True, 'draw'),\n",
       " ('black', 0, True, 'draw'),\n",
       " ('black', 0, True, 'draw'),\n",
       " ('black', 0, True, 'draw'),\n",
       " ('black', 0, True, 'draw'),\n",
       " ('black', 0, True, 'draw'),\n",
       " ('black', 0, True, 'draw'),\n",
       " ('black', 0, True, 'draw'),\n",
       " ('black', 0, True, 'draw'),\n",
       " ('black', 0, True, 'draw'),\n",
       " ('black', 0, True, 'draw'),\n",
       " ('black', 0, False, 'draw'),\n",
       " ('black', 0, True, 'draw'),\n",
       " ('black', 0, True, 'draw'),\n",
       " ('black', 0, True, 'draw'),\n",
       " ('black', 0, True, 'draw'),\n",
       " ('white', 0, False, 'draw'),\n",
       " ('black', 0, True, 'draw'),\n",
       " ('black', 0, True, 'draw'),\n",
       " ('black', 0, True, 'draw'),\n",
       " ('black', 0, True, 'draw'),\n",
       " ('black', 0, True, 'draw'),\n",
       " ('black', 0, True, 'draw'),\n",
       " ('black', 0, True, 'draw'),\n",
       " ('black', 0, True, 'draw'),\n",
       " ('black', 0, True, 'draw'),\n",
       " ('black', 0, True, 'draw'),\n",
       " ('black', 0, True, 'draw'),\n",
       " ('black', 0, True, 'draw'),\n",
       " ('black', 0, True, 'draw'),\n",
       " ('black', 0, True, 'draw'),\n",
       " ('black', 0, False, 'draw'),\n",
       " ('black', 0, True, 'draw'),\n",
       " ('black', 0, False, 'draw'),\n",
       " ('white', 0, False, 'draw'),\n",
       " ('black', 0, True, 'draw'),\n",
       " ('black', 0, True, 'draw'),\n",
       " ('black', 0, True, 'draw'),\n",
       " ('black', 0, True, 'draw'),\n",
       " ('black', 0, True, 'draw'),\n",
       " ('black', 2, False, 'draw'),\n",
       " ('black', 2, False, 'draw'),\n",
       " ('white', 0, False, 'draw'),\n",
       " ('black', 0, True, 'draw'),\n",
       " ('black', 0, True, 'draw'),\n",
       " ('black', 0, False, 'draw'),\n",
       " ('black', 0, True, 'draw'),\n",
       " ('black', 0, True, 'draw'),\n",
       " ('black', 0, True, 'draw'),\n",
       " ('black', 0, True, 'draw'),\n",
       " ('black', 0, True, 'draw'),\n",
       " ('black', 0, True, 'draw'),\n",
       " ('black', 0, True, 'draw'),\n",
       " ('black', 0, True, 'draw'),\n",
       " ('black', 0, True, 'draw'),\n",
       " ('black', -2, True, 'black'),\n",
       " ('black', 0, True, 'draw'),\n",
       " ('black', 0, True, 'draw'),\n",
       " ('black', 0, True, 'draw'),\n",
       " ('black', 0, True, 'draw'),\n",
       " ('black', 0, True, 'draw'),\n",
       " ('black', 0, False, 'draw'),\n",
       " ('black', -2, True, 'black'),\n",
       " ('black', 0, True, 'draw'),\n",
       " ('black', 0, True, 'draw'),\n",
       " ('black', 0, True, 'draw'),\n",
       " ('black', 0, True, 'draw'),\n",
       " ('black', 0, True, 'draw'),\n",
       " ('black', 0, True, 'draw'),\n",
       " ('black', 0, True, 'draw'),\n",
       " ('black', 0, True, 'draw'),\n",
       " ('black', 0, True, 'draw'),\n",
       " ('black', 0, True, 'draw'),\n",
       " ('black', 0, True, 'draw'),\n",
       " ('black', 0, True, 'draw'),\n",
       " ('black', 0, True, 'draw'),\n",
       " ('black', 0, False, 'draw'),\n",
       " ('black', 0, True, 'draw'),\n",
       " ('black', 0, True, 'draw'),\n",
       " ('black', -2, True, 'black'),\n",
       " ('black', 0, True, 'draw'),\n",
       " ('black', 0, True, 'draw'),\n",
       " ('white', 0, False, 'draw'),\n",
       " ('black', 0, True, 'draw'),\n",
       " ('black', 0, True, 'draw'),\n",
       " ('black', 0, True, 'draw'),\n",
       " ('black', 0, True, 'draw'),\n",
       " ('black', 0, True, 'draw'),\n",
       " ('black', 0, True, 'draw'),\n",
       " ('black', 0, True, 'draw'),\n",
       " ('black', 0, True, 'draw'),\n",
       " ('black', 0, True, 'draw'),\n",
       " ('black', 0, True, 'draw'),\n",
       " ('black', 0, True, 'draw'),\n",
       " ('black', 0, False, 'draw'),\n",
       " ('black', 0, False, 'draw'),\n",
       " ('black', 2, False, 'draw'),\n",
       " ('white', 0, False, 'draw'),\n",
       " ('black', 0, True, 'draw'),\n",
       " ('black', 0, True, 'draw'),\n",
       " ('black', 0, True, 'draw'),\n",
       " ('black', 0, False, 'draw'),\n",
       " ('black', 0, False, 'draw'),\n",
       " ('black', 2, False, 'draw'),\n",
       " ('black', 0, False, 'draw'),\n",
       " ('black', 0, True, 'draw'),\n",
       " ('black', 0, True, 'draw'),\n",
       " ('black', 0, True, 'draw'),\n",
       " ('black', 2, False, 'draw'),\n",
       " ('black', 0, True, 'draw'),\n",
       " ('black', 0, True, 'draw'),\n",
       " ('black', 0, True, 'draw'),\n",
       " ('black', 0, True, 'draw'),\n",
       " ('black', 0, True, 'draw'),\n",
       " ('black', 0, True, 'draw'),\n",
       " ('black', -2, True, 'black'),\n",
       " ('black', 0, True, 'draw'),\n",
       " ('black', 0, True, 'draw'),\n",
       " ('black', 2, False, 'draw'),\n",
       " ('black', 0, True, 'draw'),\n",
       " ('black', 0, True, 'draw'),\n",
       " ('black', -2, True, 'black'),\n",
       " ('black', 0, True, 'draw'),\n",
       " ('black', 0, True, 'draw'),\n",
       " ('black', 0, False, 'draw'),\n",
       " ('black', 0, True, 'draw'),\n",
       " ('black', 0, True, 'draw'),\n",
       " ('black', 2, False, 'draw'),\n",
       " ('black', 0, True, 'draw'),\n",
       " ('black', 2, False, 'draw'),\n",
       " ('black', 0, True, 'draw'),\n",
       " ('black', 0, False, 'draw'),\n",
       " ('black', 0, True, 'draw'),\n",
       " ('black', 0, True, 'draw'),\n",
       " ('black', 0, True, 'draw'),\n",
       " ('black', 0, True, 'draw'),\n",
       " ('black', 0, True, 'draw'),\n",
       " ('white', 0, True, 'draw'),\n",
       " ('black', 0, True, 'draw'),\n",
       " ('black', 0, False, 'draw'),\n",
       " ('black', 0, True, 'draw'),\n",
       " ('black', 2, False, 'draw'),\n",
       " ('black', 2, False, 'draw'),\n",
       " ('black', 0, True, 'draw')]"
      ]
     },
     "execution_count": 66,
     "metadata": {},
     "output_type": "execute_result"
    }
   ],
   "source": [
    "results['0-1']"
   ]
  },
  {
   "cell_type": "code",
   "execution_count": 43,
   "metadata": {},
   "outputs": [
    {
     "data": {
      "text/plain": [
       "814"
      ]
     },
     "execution_count": 43,
     "metadata": {},
     "output_type": "execute_result"
    }
   ],
   "source": [
    "len(results['1/2-1/2'])"
   ]
  },
  {
   "cell_type": "code",
   "execution_count": 44,
   "metadata": {},
   "outputs": [
    {
     "data": {
      "text/plain": [
       "(307, 299, 8)"
      ]
     },
     "execution_count": 44,
     "metadata": {},
     "output_type": "execute_result"
    }
   ],
   "source": [
    "len(results['1-0']), results['1-0'].count('white'), results['1-0'].count('black')"
   ]
  },
  {
   "cell_type": "code",
   "execution_count": 45,
   "metadata": {},
   "outputs": [
    {
     "data": {
      "text/plain": [
       "(273, 12, 261)"
      ]
     },
     "execution_count": 45,
     "metadata": {},
     "output_type": "execute_result"
    }
   ],
   "source": [
    "len(results['0-1']), results['0-1'].count('white'), results['0-1'].count('black')"
   ]
  },
  {
   "cell_type": "code",
   "execution_count": 47,
   "metadata": {},
   "outputs": [
    {
     "data": {
      "text/plain": [
       "1394"
      ]
     },
     "execution_count": 47,
     "metadata": {},
     "output_type": "execute_result"
    }
   ],
   "source": [
    "814 + 307 + 273"
   ]
  },
  {
   "cell_type": "code",
   "execution_count": 49,
   "metadata": {},
   "outputs": [
    {
     "data": {
      "text/plain": [
       "1.6868131868131868"
      ]
     },
     "execution_count": 49,
     "metadata": {},
     "output_type": "execute_result"
    }
   ],
   "source": [
    "12/273 / (8/307)"
   ]
  },
  {
   "cell_type": "code",
   "execution_count": null,
   "metadata": {},
   "outputs": [],
   "source": []
  }
 ],
 "metadata": {
  "kernelspec": {
   "display_name": "Python 3",
   "language": "python",
   "name": "python3"
  },
  "language_info": {
   "codemirror_mode": {
    "name": "ipython",
    "version": 3
   },
   "file_extension": ".py",
   "mimetype": "text/x-python",
   "name": "python",
   "nbconvert_exporter": "python",
   "pygments_lexer": "ipython3",
   "version": "3.8.5"
  }
 },
 "nbformat": 4,
 "nbformat_minor": 4
}
