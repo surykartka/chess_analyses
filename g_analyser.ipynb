{
 "cells": [
  {
   "cell_type": "markdown",
   "metadata": {},
   "source": [
    "Data downloaded from https://old.chesstempo.com/gamedb/player/67433."
   ]
  },
  {
   "cell_type": "code",
   "execution_count": 1,
   "metadata": {},
   "outputs": [],
   "source": [
    "import chess\n",
    "import chess.pgn\n",
    "\n",
    "import matplotlib, seaborn\n",
    "from matplotlib import pyplot as plt\n",
    "\n",
    "from scipy import stats"
   ]
  },
  {
   "cell_type": "code",
   "execution_count": 2,
   "metadata": {},
   "outputs": [],
   "source": [
    "ref_player = 'Gajewski'\n",
    "def count_pieces(board, game, player=ref_player, piece=chess.KNIGHT):\n",
    "    # return number of given pieces for a given player on a given board position \n",
    "    if player == ref_player:\n",
    "        if ref_player in game.headers['White']:\n",
    "            return len(board.pieces(piece_type=piece, color=chess.WHITE))\n",
    "        return len(board.pieces(piece_type=piece, color=chess.BLACK))\n",
    "    else:\n",
    "        if ref_player in game.headers['White']:\n",
    "            return len(board.pieces(piece_type=piece, color=chess.BLACK))\n",
    "        return len(board.pieces(piece_type=piece, color=chess.WHITE))"
   ]
  },
  {
   "cell_type": "code",
   "execution_count": 3,
   "metadata": {},
   "outputs": [],
   "source": [
    "def grzesiu_won(game, draw_winning=False):\n",
    "    player_white = game.headers['White']\n",
    "    player_black = game.headers['Black']\n",
    "    result = game.headers['Result']\n",
    "    if ref_player in player_white:\n",
    "        if not draw_winning: ## only full point wins\n",
    "            if result == '1-0':\n",
    "                return True\n",
    "            return False\n",
    "        else:\n",
    "            if result in ('1-0', '1/2-1/2'):\n",
    "                return True\n",
    "            return False\n",
    "    else:\n",
    "        if not draw_winning:\n",
    "            if result == '0-1':\n",
    "                return True\n",
    "            return False\n",
    "        else:\n",
    "            if result in ('0-1', '1/2-1/2'):\n",
    "                return True\n",
    "            return False"
   ]
  },
  {
   "cell_type": "code",
   "execution_count": 4,
   "metadata": {},
   "outputs": [],
   "source": [
    "def piece_moved(board, last_move):\n",
    "    pos = str(last_move)[2:4]\n",
    "    piece = board.piece_at(chess.parse_square(pos))\n",
    "    return str(piece)"
   ]
  },
  {
   "cell_type": "code",
   "execution_count": 117,
   "metadata": {},
   "outputs": [],
   "source": [
    "def get_contingency_table(games):\n",
    "    a = games['won']\n",
    "    b = games['lost']\n",
    "    c = games['won total'] - games['won']\n",
    "    d = games['lost total'] - games['lost']\n",
    "    return [[a,b], [c,d]]"
   ]
  },
  {
   "cell_type": "code",
   "execution_count": 158,
   "metadata": {},
   "outputs": [],
   "source": [
    "pgn_file = 'data/gajewski_games.pgn'"
   ]
  },
  {
   "cell_type": "code",
   "execution_count": 159,
   "metadata": {},
   "outputs": [],
   "source": [
    "# filtering out some games\n",
    "years = []\n",
    "output_pgn = 'data/gajewski_games_filtered.pgn'\n",
    "with open(output_pgn, 'w') as f:\n",
    "    with open(pgn_file) as pgn:\n",
    "        while 1:\n",
    "            game = chess.pgn.read_game(pgn)\n",
    "            if not game:\n",
    "                break\n",
    "            year = int(game.headers['Date'].split('.')[0])\n",
    "            years.append(year)\n",
    "            if year >= 2015:\n",
    "                continue\n",
    "            print(game, file=f, end=\"\\n\\n\")\n",
    "pgn_file = output_pgn"
   ]
  },
  {
   "cell_type": "code",
   "execution_count": 160,
   "metadata": {},
   "outputs": [
    {
     "name": "stdout",
     "output_type": "stream",
     "text": [
      "2006\t1\n",
      "2007\t3\n",
      "2008\t10\n",
      "2009\t7\n",
      "2010\t12\n",
      "2011\t6\n",
      "2012\t24\n",
      "2013\t21\n",
      "2014\t28\n",
      "2015\t40\n",
      "2016\t24\n",
      "2017\t25\n",
      "2018\t11\n",
      "2019\t41\n",
      "2020\t11\n"
     ]
    }
   ],
   "source": [
    "minY = min(years)\n",
    "maxY = max(years)\n",
    "for Y in range(minY, maxY+1):\n",
    "    print(Y, years.count(Y), sep='\\t')"
   ]
  },
  {
   "cell_type": "code",
   "execution_count": 161,
   "metadata": {},
   "outputs": [],
   "source": [
    "features = ['Majority of knights in the end position',\n",
    "            'Majority of bishops in the end position',\n",
    "            'Majority of pawns in the end position',\n",
    "            'Majority of knights after first 30 moves',\n",
    "            'More than 10 knight moves made by Grzesiu',\n",
    "            \"Grzesiu's knight more active than opponent's\",\n",
    "            \"Grzesiu's knight more active than opponent's in the last 10 moves\"\n",
    "           ]\n",
    "\n",
    "tables = []"
   ]
  },
  {
   "cell_type": "code",
   "execution_count": 162,
   "metadata": {},
   "outputs": [],
   "source": [
    "# Majority of knights in the end position\n",
    "\n",
    "games = {'won total': 0, 'lost total': 0, 'won': 0, 'lost': 0}\n",
    "\n",
    "with open(pgn_file) as pgn:\n",
    "    while 1:\n",
    "        game = chess.pgn.read_game(pgn)\n",
    "        if not game:\n",
    "            break\n",
    "\n",
    "        board = game.board()\n",
    "        for move in game.mainline_moves():\n",
    "            board.push(move)\n",
    "\n",
    "        # last state on the board\n",
    "        g_knights = count_pieces(board, game, ref_player, chess.KNIGHT)\n",
    "        o_knights = count_pieces(board, game, 'other', chess.KNIGHT)\n",
    "\n",
    "        if grzesiu_won(game):\n",
    "            if g_knights > o_knights:\n",
    "                games['won'] += 1\n",
    "            games['won total'] += 1\n",
    "        else:\n",
    "            if g_knights > o_knights:\n",
    "                games['lost'] += 1\n",
    "            games['lost total'] += 1\n",
    "\n",
    "    ct = get_contingency_table(games)\n",
    "    tables.append(ct)"
   ]
  },
  {
   "cell_type": "code",
   "execution_count": 163,
   "metadata": {},
   "outputs": [],
   "source": [
    "# Majority of bishops in the end position\n",
    "\n",
    "games = {'won total': 0, 'lost total': 0, 'won': 0, 'lost': 0}\n",
    "\n",
    "with open(pgn_file) as pgn:\n",
    "    while 1:\n",
    "        game = chess.pgn.read_game(pgn)\n",
    "        if not game:\n",
    "            break\n",
    "\n",
    "        board = game.board()\n",
    "        for move in game.mainline_moves():\n",
    "            board.push(move)\n",
    "\n",
    "        # last state on the board\n",
    "        g_bishops = count_pieces(board, game, ref_player, chess.BISHOP)\n",
    "        o_bishops = count_pieces(board, game, 'other', chess.BISHOP)\n",
    "\n",
    "        if grzesiu_won(game):\n",
    "            if g_bishops > o_bishops:\n",
    "                games['won'] += 1\n",
    "            games['won total'] += 1\n",
    "        else:\n",
    "            if g_bishops > o_bishops:\n",
    "                games['lost'] += 1\n",
    "            games['lost total'] += 1\n",
    "\n",
    "    ct = get_contingency_table(games)\n",
    "    tables.append(ct)"
   ]
  },
  {
   "cell_type": "code",
   "execution_count": 164,
   "metadata": {},
   "outputs": [],
   "source": [
    "# Majority of pawns in the end position\n",
    "\n",
    "games = {'won total': 0, 'lost total': 0, 'won': 0, 'lost': 0}\n",
    "\n",
    "with open(pgn_file) as pgn:\n",
    "    while 1:\n",
    "        game = chess.pgn.read_game(pgn)\n",
    "        if not game:\n",
    "            break\n",
    "\n",
    "        board = game.board()\n",
    "        for move in game.mainline_moves():\n",
    "            board.push(move)\n",
    "\n",
    "        # last state on the board\n",
    "        g_pawns = count_pieces(board, game, ref_player, chess.PAWN)\n",
    "        o_pawns = count_pieces(board, game, 'other', chess.PAWN)\n",
    "\n",
    "        if grzesiu_won(game):\n",
    "            if g_pawns > o_pawns:\n",
    "                games['won'] += 1\n",
    "            games['won total'] += 1\n",
    "        else:\n",
    "            if g_pawns > o_pawns:\n",
    "                games['lost'] += 1\n",
    "            games['lost total'] += 1\n",
    "\n",
    "    ct = get_contingency_table(games)\n",
    "    tables.append(ct)"
   ]
  },
  {
   "cell_type": "code",
   "execution_count": 165,
   "metadata": {},
   "outputs": [],
   "source": [
    "# Majority of knights after first 30 moves\n",
    "\n",
    "games = {'won total': 0, 'lost total': 0, 'won': 0, 'lost': 0}\n",
    "\n",
    "with open(pgn_file) as pgn:\n",
    "    while 1:\n",
    "        game = chess.pgn.read_game(pgn)\n",
    "        if not game:\n",
    "            break\n",
    "\n",
    "        board = game.board()\n",
    "        for i,move in enumerate(game.mainline_moves()):\n",
    "            if i > 29:\n",
    "                break\n",
    "            board.push(move)\n",
    "\n",
    "        # last state on the board\n",
    "        g_knights = count_pieces(board, game, ref_player, chess.KNIGHT)\n",
    "        o_knights = count_pieces(board, game, 'other', chess.KNIGHT)\n",
    "\n",
    "        if grzesiu_won(game):\n",
    "            if g_knights > o_knights:\n",
    "                games['won'] += 1\n",
    "            games['won total'] += 1\n",
    "        else:\n",
    "            if g_knights > o_knights:\n",
    "                games['lost'] += 1\n",
    "            games['lost total'] += 1\n",
    "\n",
    "    ct = get_contingency_table(games)\n",
    "    tables.append(ct)"
   ]
  },
  {
   "cell_type": "code",
   "execution_count": 166,
   "metadata": {},
   "outputs": [],
   "source": [
    "# More than 6 knight moves made by Grzesiu\n",
    "\n",
    "games = {'won total': 0, 'lost total': 0, 'won': 0, 'lost': 0}\n",
    "\n",
    "with open(pgn_file) as pgn:\n",
    "    while 1:\n",
    "        game = chess.pgn.read_game(pgn)\n",
    "        if not game:\n",
    "            break\n",
    "\n",
    "        player_white = game.headers['White']\n",
    "        player_black = game.headers['Black']\n",
    "\n",
    "        g_knights, o_knights = 0, 0\n",
    "\n",
    "        board = game.board()\n",
    "        for i,move in enumerate(game.mainline_moves()):\n",
    "            board.push(move)\n",
    "            piece = piece_moved(board, move)\n",
    "            if piece in 'Nn':\n",
    "                if ref_player in player_white: # Grzesiu playing white\n",
    "                    if piece == 'N':\n",
    "                        g_knights += 1\n",
    "                    else:\n",
    "                        o_knights += 1\n",
    "                else: # Grzesiu playing black\n",
    "                    if piece == 'n':\n",
    "                        g_knights += 1\n",
    "                    else:\n",
    "                        o_knights += 1\n",
    "\n",
    "        if grzesiu_won(game):\n",
    "            if g_knights > 6:\n",
    "                games['won'] += 1\n",
    "            games['won total'] += 1\n",
    "        else:\n",
    "            if g_knights > 6:\n",
    "                games['lost'] += 1\n",
    "            games['lost total'] += 1\n",
    "\n",
    "    ct = get_contingency_table(games)\n",
    "    tables.append(ct)"
   ]
  },
  {
   "cell_type": "code",
   "execution_count": 167,
   "metadata": {},
   "outputs": [],
   "source": [
    "# Grzesiu's knight more active than opponent's\n",
    "\n",
    "games = {'won total': 0, 'lost total': 0, 'won': 0, 'lost': 0}\n",
    "\n",
    "with open(pgn_file) as pgn:\n",
    "    while 1:\n",
    "        game = chess.pgn.read_game(pgn)\n",
    "        if not game:\n",
    "            break\n",
    "\n",
    "        player_white = game.headers['White']\n",
    "        player_black = game.headers['Black']\n",
    "\n",
    "        g_knights, o_knights = 0, 0\n",
    "\n",
    "        board = game.board()\n",
    "        for i,move in enumerate(game.mainline_moves()):\n",
    "            board.push(move)\n",
    "            piece = piece_moved(board, move)\n",
    "            if piece in 'Nn':\n",
    "                if ref_player in player_white: # Grzesiu playing white\n",
    "                    if piece == 'N':\n",
    "                        g_knights += 1\n",
    "                    else:\n",
    "                        o_knights += 1\n",
    "                else: # Grzesiu playing black\n",
    "                    if piece == 'n':\n",
    "                        g_knights += 1\n",
    "                    else:\n",
    "                        o_knights += 1\n",
    "\n",
    "        if grzesiu_won(game):\n",
    "            if g_knights > o_knights:\n",
    "                games['won'] += 1\n",
    "            games['won total'] += 1\n",
    "        else:\n",
    "            if g_knights > o_knights:\n",
    "                games['lost'] += 1\n",
    "            games['lost total'] += 1\n",
    "\n",
    "    ct = get_contingency_table(games)\n",
    "    tables.append(ct)"
   ]
  },
  {
   "cell_type": "code",
   "execution_count": 168,
   "metadata": {},
   "outputs": [],
   "source": [
    "# Grzesiu's knight more active than opponent's in the last 10 moves\n",
    "\n",
    "games = {'won total': 0, 'lost total': 0, 'won': 0, 'lost': 0}\n",
    "\n",
    "with open(pgn_file) as pgn:\n",
    "    while 1:\n",
    "        game = chess.pgn.read_game(pgn)\n",
    "        if not game:\n",
    "            break\n",
    "\n",
    "        player_white = game.headers['White']\n",
    "        player_black = game.headers['Black']\n",
    "\n",
    "        g_knights, o_knights = 0, 0\n",
    "\n",
    "        board = game.board()\n",
    "        moves_total = 0\n",
    "        for x in game.mainline_moves():\n",
    "            moves_total += 1\n",
    "        for i,move in enumerate(game.mainline_moves()):            \n",
    "            board.push(move)\n",
    "            if i < moves_total - 10:\n",
    "                continue\n",
    "            piece = piece_moved(board, move)\n",
    "            if piece in 'Nn':\n",
    "                if ref_player in player_white: # Grzesiu playing white\n",
    "                    if piece == 'N':\n",
    "                        g_knights += 1\n",
    "                    else:\n",
    "                        o_knights += 1\n",
    "                else: # Grzesiu playing black\n",
    "                    if piece == 'n':\n",
    "                        g_knights += 1\n",
    "                    else:\n",
    "                        o_knights += 1\n",
    "\n",
    "        if grzesiu_won(game):\n",
    "            if g_knights > o_knights:\n",
    "                games['won'] += 1\n",
    "            games['won total'] += 1\n",
    "        else:\n",
    "            if g_knights > o_knights:\n",
    "                games['lost'] += 1\n",
    "            games['lost total'] += 1\n",
    "\n",
    "    ct = get_contingency_table(games)\n",
    "    tables.append(ct)"
   ]
  },
  {
   "cell_type": "code",
   "execution_count": 169,
   "metadata": {},
   "outputs": [
    {
     "name": "stdout",
     "output_type": "stream",
     "text": [
      "Majority of knights in the end position\n",
      "Majority of bishops in the end position\n",
      "Majority of pawns in the end position\n",
      "Majority of knights after first 30 moves\n",
      "More than 10 knight moves made by Grzesiu\n",
      "Grzesiu's knight more active than opponent's\n",
      "Grzesiu's knight more active than opponent's in the last 10 moves\n",
      "\n",
      "Majority of knights in the end position\n",
      "[[7, 10], [22, 73]]\n",
      "(2.3227272727272728, 0.13776286928174516)\n",
      "Majority of bishops in the end position\n",
      "[[7, 14], [22, 69]]\n",
      "(1.5681818181818181, 0.41370051740245906)\n",
      "Majority of pawns in the end position\n",
      "[[16, 11], [13, 72]]\n",
      "(8.055944055944057, 1.9169052713822133e-05)\n",
      "Majority of knights after first 30 moves\n",
      "[[4, 12], [25, 71]]\n",
      "(0.9466666666666667, 1.0)\n",
      "More than 10 knight moves made by Grzesiu\n",
      "[[9, 31], [20, 52]]\n",
      "(0.7548387096774194, 0.6544186049142888)\n",
      "Grzesiu's knight more active than opponent's\n",
      "[[9, 28], [20, 55]]\n",
      "(0.8839285714285714, 1.0)\n",
      "Grzesiu's knight more active than opponent's in the last 10 moves\n",
      "[[5, 14], [24, 69]]\n",
      "(1.0267857142857142, 1.0)\n",
      "\n",
      "112\n"
     ]
    }
   ],
   "source": [
    "print(*features, sep='\\n')\n",
    "print()\n",
    "\n",
    "for i,table in enumerate(tables):\n",
    "    print(features[i])\n",
    "    print(table)\n",
    "    print(stats.fisher_exact(table))\n",
    "\n",
    "print()\n",
    "print(sum(table[0])+sum(table[1]))"
   ]
  },
  {
   "cell_type": "code",
   "execution_count": null,
   "metadata": {},
   "outputs": [],
   "source": []
  },
  {
   "cell_type": "code",
   "execution_count": 175,
   "metadata": {},
   "outputs": [
    {
     "data": {
      "text/plain": [
       "0.2727272727272727"
      ]
     },
     "execution_count": 175,
     "metadata": {},
     "output_type": "execute_result"
    }
   ],
   "source": [
    "15/55"
   ]
  },
  {
   "cell_type": "code",
   "execution_count": 176,
   "metadata": {},
   "outputs": [
    {
     "data": {
      "text/plain": [
       "0.42857142857142855"
      ]
     },
     "execution_count": 176,
     "metadata": {},
     "output_type": "execute_result"
    }
   ],
   "source": [
    "33/77"
   ]
  },
  {
   "cell_type": "code",
   "execution_count": null,
   "metadata": {},
   "outputs": [],
   "source": []
  }
 ],
 "metadata": {
  "kernelspec": {
   "display_name": "Python 3",
   "language": "python",
   "name": "python3"
  },
  "language_info": {
   "codemirror_mode": {
    "name": "ipython",
    "version": 3
   },
   "file_extension": ".py",
   "mimetype": "text/x-python",
   "name": "python",
   "nbconvert_exporter": "python",
   "pygments_lexer": "ipython3",
   "version": "3.8.5"
  }
 },
 "nbformat": 4,
 "nbformat_minor": 4
}
